{
  "nbformat": 4,
  "nbformat_minor": 0,
  "metadata": {
    "colab": {
      "provenance": [],
      "authorship_tag": "ABX9TyOvCy1RHINJBkCWwgTZZI2C",
      "include_colab_link": true
    },
    "kernelspec": {
      "name": "python3",
      "display_name": "Python 3"
    },
    "language_info": {
      "name": "python"
    }
  },
  "cells": [
    {
      "cell_type": "markdown",
      "metadata": {
        "id": "view-in-github",
        "colab_type": "text"
      },
      "source": [
        "<a href=\"https://colab.research.google.com/github/anant1123/Python-exercise-questons/blob/main/python_questions.ipynb\" target=\"_parent\"><img src=\"https://colab.research.google.com/assets/colab-badge.svg\" alt=\"Open In Colab\"/></a>"
      ]
    },
    {
      "cell_type": "code",
      "execution_count": null,
      "metadata": {
        "id": "rrCf0pdavGZB"
      },
      "outputs": [],
      "source": []
    },
    {
      "cell_type": "markdown",
      "source": [
        "Write a program which will find all such numbers which are divisible by 7 but are not a multiple of 5,\n",
        "between 2000 and 3200 (both included).\n",
        "The numbers obtained should be printed in a comma-separated sequence on a single line."
      ],
      "metadata": {
        "id": "sErCDRdPvmyT"
      }
    },
    {
      "cell_type": "code",
      "source": [
        "l=[]\n",
        "for i in range(2000, 3201):\n",
        "    if (i%7==0) and (i%5!=0):\n",
        "        l.append(str(i))\n",
        "print(l)"
      ],
      "metadata": {
        "colab": {
          "base_uri": "https://localhost:8080/"
        },
        "id": "7PlRoMavvpMk",
        "outputId": "8216917f-a579-4dda-997b-32c0a7431d76"
      },
      "execution_count": null,
      "outputs": [
        {
          "output_type": "stream",
          "name": "stdout",
          "text": [
            "['2002', '2009', '2016', '2023', '2037', '2044', '2051', '2058', '2072', '2079', '2086', '2093', '2107', '2114', '2121', '2128', '2142', '2149', '2156', '2163', '2177', '2184', '2191', '2198', '2212', '2219', '2226', '2233', '2247', '2254', '2261', '2268', '2282', '2289', '2296', '2303', '2317', '2324', '2331', '2338', '2352', '2359', '2366', '2373', '2387', '2394', '2401', '2408', '2422', '2429', '2436', '2443', '2457', '2464', '2471', '2478', '2492', '2499', '2506', '2513', '2527', '2534', '2541', '2548', '2562', '2569', '2576', '2583', '2597', '2604', '2611', '2618', '2632', '2639', '2646', '2653', '2667', '2674', '2681', '2688', '2702', '2709', '2716', '2723', '2737', '2744', '2751', '2758', '2772', '2779', '2786', '2793', '2807', '2814', '2821', '2828', '2842', '2849', '2856', '2863', '2877', '2884', '2891', '2898', '2912', '2919', '2926', '2933', '2947', '2954', '2961', '2968', '2982', '2989', '2996', '3003', '3017', '3024', '3031', '3038', '3052', '3059', '3066', '3073', '3087', '3094', '3101', '3108', '3122', '3129', '3136', '3143', '3157', '3164', '3171', '3178', '3192', '3199']\n"
          ]
        }
      ]
    },
    {
      "cell_type": "markdown",
      "source": [
        "Write a program which can compute the factorial of a given numbers.\n",
        "The results should be printed in a comma-separated sequence on a single line.\n",
        "Suppose the following input is supplied to the program:\n",
        "8\n",
        "Then, the output should be:\n",
        "40320"
      ],
      "metadata": {
        "id": "YHVV0gLxvweK"
      }
    },
    {
      "cell_type": "code",
      "source": [
        "def fact(n):\n",
        "    result = 1\n",
        "    for i in range(2, n + 1):\n",
        "        result *= i\n",
        "    return result\n",
        "print(fact(10))\n",
        "\n",
        "#or\n",
        "factorial = lambda n: 1 if n == 0 else n * fact(n - 1)\n",
        "factorial(9)"
      ],
      "metadata": {
        "colab": {
          "base_uri": "https://localhost:8080/"
        },
        "id": "t3W8EL39wFGe",
        "outputId": "30a7b7a0-011d-47b4-f94e-2034bd89c072"
      },
      "execution_count": null,
      "outputs": [
        {
          "output_type": "stream",
          "name": "stdout",
          "text": [
            "3628800\n"
          ]
        },
        {
          "output_type": "execute_result",
          "data": {
            "text/plain": [
              "362880"
            ]
          },
          "metadata": {},
          "execution_count": 8
        }
      ]
    },
    {
      "cell_type": "markdown",
      "source": [
        "With a given integral number n, write a program to generate a dictionary that contains (i, i*i) such that is an integral number between 1 and n (both included). and then the program should print the dictionary.\n",
        "Suppose the following input is supplied to the program:8\n",
        "Then, the output should be:\n",
        "{1: 1, 2: 4, 3: 9, 4: 16, 5: 25, 6: 36, 7: 49, 8: 64}"
      ],
      "metadata": {
        "id": "qpXM1sl0wPA4"
      }
    },
    {
      "cell_type": "code",
      "source": [
        "n=int(input('enter the number'))\n",
        "d=dict()\n",
        "for i in range(1,n+1):\n",
        "    d[i]=i*i\n",
        "print(d)"
      ],
      "metadata": {
        "colab": {
          "base_uri": "https://localhost:8080/"
        },
        "id": "kenlxlafw12y",
        "outputId": "d6de07de-29e5-402e-a272-3482c77a1fc7"
      },
      "execution_count": null,
      "outputs": [
        {
          "output_type": "stream",
          "name": "stdout",
          "text": [
            "enter the number10\n",
            "{1: 1, 2: 4, 3: 9, 4: 16, 5: 25, 6: 36, 7: 49, 8: 64, 9: 81, 10: 100}\n"
          ]
        }
      ]
    },
    {
      "cell_type": "markdown",
      "source": [
        "Write a program which accepts a sequence of comma-separated numbers from console and generate a list and a tuple which contains every number.\n",
        "Suppose the following input is supplied to the program:\n",
        "34,67,55,33,12,98\n",
        "Then, the output should be:\n",
        "['34', '67', '55', '33', '12', '98']\n",
        "('34', '67', '55', '33', '12', '98')\n"
      ],
      "metadata": {
        "id": "4ujNzPttxNgM"
      }
    },
    {
      "cell_type": "code",
      "source": [
        "values=input()\n",
        "l=values.split(',')\n",
        "t=tuple(l)\n",
        "print(l)\n",
        "print(t)"
      ],
      "metadata": {
        "colab": {
          "base_uri": "https://localhost:8080/"
        },
        "id": "FFlDjYd6Ye_e",
        "outputId": "436a42c0-92b7-4194-9283-e0862ef68c6f"
      },
      "execution_count": null,
      "outputs": [
        {
          "output_type": "stream",
          "name": "stdout",
          "text": [
            "55,88,33,99,44,75,95,48\n",
            "['55', '88', '33', '99', '44', '75', '95', '48']\n",
            "('55', '88', '33', '99', '44', '75', '95', '48')\n"
          ]
        }
      ]
    },
    {
      "cell_type": "markdown",
      "source": [
        "Define a class which has at least two methods:\n",
        "getString: to get a string from console input\n",
        "printString: to print the string in upper case.\n",
        "Also please include simple test function to test the class methods."
      ],
      "metadata": {
        "id": "7zPIMLMgYkD8"
      }
    },
    {
      "cell_type": "code",
      "source": [
        "# prompt: Define a class which has at least two methods:\n",
        "# getString: to get a string from console input\n",
        "# printString: to print the string in upper case.\n",
        "# Also please include simple test function to test the class methods.\n",
        "\n",
        "class IOString():\n",
        "  def __init__(self):\n",
        "    self.str1 = \"\"\n",
        "\n",
        "  def get_string(self):\n",
        "    self.str1 = input()\n",
        "\n",
        "  def print_string(self):\n",
        "    print(self.str1.upper())\n",
        "\n",
        "str1 = IOString()\n",
        "str1.get_string()\n",
        "str1.print_string()"
      ],
      "metadata": {
        "colab": {
          "base_uri": "https://localhost:8080/"
        },
        "id": "B7TaOJFjZica",
        "outputId": "5820a1d8-28a4-462c-e7ad-645b4de1c105"
      },
      "execution_count": null,
      "outputs": [
        {
          "output_type": "stream",
          "name": "stdout",
          "text": [
            "gvg\n",
            "GVG\n"
          ]
        }
      ]
    },
    {
      "cell_type": "markdown",
      "source": [
        "Write a program that calculates and prints the value according to the given formula:\n",
        "Q = Square root of [(2 * C * D)/H]\n",
        "Following are the fixed values of C and H:\n",
        "C is 50. H is 30.\n",
        "D is the variable whose values should be input to your program in a comma-separated sequence.\n",
        "Example\n",
        "Let us assume the following comma separated input sequence is given to the program:\n",
        "100,150,180\n",
        "The output of the program should be:\n",
        "18,22,24\n",
        "\n",
        "Hints:\n",
        "If the output received is in decimal form, it should be rounded off to its nearest value (for example, if the output received is 26.0, it should be printed as 26)\n",
        "In case of input data being supplied to the question, it should be assumed to be a console input.\n",
        "\n"
      ],
      "metadata": {
        "id": "gvij6rCUaICY"
      }
    },
    {
      "cell_type": "code",
      "source": [
        "import math\n",
        "C = 50\n",
        "H = 30\n",
        "D_values = input(\"Please enter the values of D in a comma-separated sequence: \")\n",
        "D_list = [int(x) for x in D_values.split(',')]\n",
        "Q_list = []\n",
        "for D in D_list:\n",
        "    Q = math.sqrt((2 * C * D) / H)\n",
        "    Q_list.append(round(Q))\n",
        "print(\",\".join(map(str, Q_list)))\n",
        "\n"
      ],
      "metadata": {
        "colab": {
          "base_uri": "https://localhost:8080/"
        },
        "id": "vsv2uO4GZ4f1",
        "outputId": "79726d52-b5cf-4d7e-8297-8133fcbeb0eb"
      },
      "execution_count": null,
      "outputs": [
        {
          "output_type": "stream",
          "name": "stdout",
          "text": [
            "Please enter the values of D in a comma-separated sequence: 100,150,180\n",
            "18,22,24\n"
          ]
        }
      ]
    },
    {
      "cell_type": "markdown",
      "source": [
        "Write a program that accepts a comma separated sequence of words as input and prints the words in a comma-separated sequence after sorting them alphabetically.\n",
        "Suppose the following input is supplied to the program:\n",
        "without,hello,bag,world\n",
        "Then, the output should be:\n",
        "bag,hello,without,world\n"
      ],
      "metadata": {
        "id": "ORi2hN1faG8J"
      }
    },
    {
      "cell_type": "code",
      "source": [
        "s=str(input('enter the words separated by comma'))\n",
        "l=s.split(',')\n",
        "l.sort()\n",
        "print(l)"
      ],
      "metadata": {
        "colab": {
          "base_uri": "https://localhost:8080/"
        },
        "id": "_TdQJBzmdxcg",
        "outputId": "adeb541f-9401-4464-957b-749f92fef977"
      },
      "execution_count": null,
      "outputs": [
        {
          "output_type": "stream",
          "name": "stdout",
          "text": [
            "enter the words separated by commamy,name,is,anant,khandelwal\n",
            "['anant', 'is', 'khandelwal', 'my', 'name']\n"
          ]
        }
      ]
    },
    {
      "cell_type": "markdown",
      "source": [
        "Write a program that accepts sequence of lines as input and prints the lines after making all characters in the sentence capitalized.\n",
        "Suppose the following input is supplied to the program:\n",
        "Hello world\n",
        "Practice makes perfect\n",
        "Then, the output should be:\n",
        "HELLO WORLD\n",
        "PRACTICE MAKES PERFECT\n"
      ],
      "metadata": {
        "id": "aSQ8Lq_TeAFK"
      }
    },
    {
      "cell_type": "code",
      "source": [
        "q=str(input('enter the sentence seprated with comma'))\n",
        "l=q.split(',')\n",
        "for i in l:\n",
        "  print(i.upper())"
      ],
      "metadata": {
        "colab": {
          "base_uri": "https://localhost:8080/"
        },
        "id": "5sZaH55neaez",
        "outputId": "86339f13-cde3-46ce-b3e1-57e2f2d071f0"
      },
      "execution_count": null,
      "outputs": [
        {
          "output_type": "stream",
          "name": "stdout",
          "text": [
            "enter the sentence seprated with commagasreg,rgg,reg,ergv,ergv,ergv,regv,ergbverdfgvered,rgetd\n",
            "GASREG\n",
            "RGG\n",
            "REG\n",
            "ERGV\n",
            "ERGV\n",
            "ERGV\n",
            "REGV\n",
            "ERGBVERDFGVERED\n",
            "RGETD\n"
          ]
        }
      ]
    },
    {
      "cell_type": "markdown",
      "source": [
        "Write a program that accepts a sequence of whitespace separated words as input and prints the words after removing all duplicate words and sorting them alphanumerically.\n",
        "Suppose the following input is supplied to the program:\n",
        "hello world and practice makes perfect and hello world again\n",
        "Then, the output should be:\n",
        "again and hello makes perfect practice world\n"
      ],
      "metadata": {
        "id": "ByFel6NvfNCf"
      }
    },
    {
      "cell_type": "code",
      "source": [
        "s=input('enter the sentence ')\n",
        "l=s.split(' ')\n",
        "l1=[]\n",
        "for i in l:\n",
        "  if i not in l1:\n",
        "    l1.append(i)\n",
        "  else:\n",
        "    continue\n",
        "l1.sort()\n",
        "print(' '.join(l1))\n"
      ],
      "metadata": {
        "colab": {
          "base_uri": "https://localhost:8080/"
        },
        "id": "PeOE6oS6fhx3",
        "outputId": "d1bcee08-40eb-4b7a-ed28-38cf519d29ee"
      },
      "execution_count": null,
      "outputs": [
        {
          "output_type": "stream",
          "name": "stdout",
          "text": [
            "enter the sentence anant khandelwal from kota 325201 rajasthan my name is anant khandelwal gssgdrf\n",
            "325201 anant from gssgdrf is khandelwal kota my name rajasthan\n"
          ]
        }
      ]
    },
    {
      "cell_type": "markdown",
      "source": [
        "Write a program which accepts a sequence of comma separated 4 digit binary numbers as its input and then check whether they are divisible by 5 or not. The numbers that are divisible by 5 are to be printed in a comma separated sequence.\n",
        "Example:\n",
        "0100,0011,1010,1001\n",
        "Then the output should be:\n",
        "1010"
      ],
      "metadata": {
        "id": "XqgJ3lrggHWI"
      }
    },
    {
      "cell_type": "code",
      "source": [
        "b=input('enter the binary numbers ')\n",
        "l=b.split(',')\n",
        "for i in l:\n",
        "  if int(i,2)%5==0:\n",
        "    print(i)"
      ],
      "metadata": {
        "colab": {
          "base_uri": "https://localhost:8080/"
        },
        "id": "FlT63MnDgw8b",
        "outputId": "c9c87bd9-334c-40b2-c54d-3197fc71a3d6"
      },
      "execution_count": null,
      "outputs": [
        {
          "output_type": "stream",
          "name": "stdout",
          "text": [
            "enter the binary numbers0100,0011,1010,1001\n",
            "1010\n"
          ]
        }
      ]
    },
    {
      "cell_type": "markdown",
      "source": [
        " Write a  Python function that takes a sequence of numbers and determines whether all the numbers are different from each other."
      ],
      "metadata": {
        "id": "o-Ymii-7g9f-"
      }
    },
    {
      "cell_type": "code",
      "source": [
        "n=input('enter the numbers ')\n",
        "l=n.split(',')\n",
        "for i in l:\n",
        "  if l.count(i)==1:\n",
        "    print(i)\n",
        "  else:\n",
        "    print('not all numbers are different')\n",
        "    break"
      ],
      "metadata": {
        "id": "DHyX-IY2xwk3",
        "outputId": "5d09ca51-f331-4c6a-9ed7-40a7275d710a",
        "colab": {
          "base_uri": "https://localhost:8080/"
        }
      },
      "execution_count": 1,
      "outputs": [
        {
          "output_type": "stream",
          "name": "stdout",
          "text": [
            "enter the numbers 55,55,87,69,4,8,7,5,6\n",
            "not all numbers are different\n"
          ]
        }
      ]
    },
    {
      "cell_type": "code",
      "source": [],
      "metadata": {
        "id": "-s3o0QvtyDTv"
      },
      "execution_count": null,
      "outputs": []
    }
  ]
}